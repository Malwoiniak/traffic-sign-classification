{
  "nbformat": 4,
  "nbformat_minor": 0,
  "metadata": {
    "colab": {
      "name": "day5.ipynb",
      "provenance": [],
      "mount_file_id": "1SG862UBIRXlNdVpPGzU1X0njn7dWTqjB",
      "authorship_tag": "ABX9TyPuMGDYEK8QbtZibmdUwhuE"
    },
    "kernelspec": {
      "name": "python3",
      "display_name": "Python 3"
    },
    "accelerator": "GPU"
  },
  "cells": [
    {
      "cell_type": "code",
      "metadata": {
        "id": "VrLqwKDfyW3g",
        "colab_type": "code",
        "colab": {
          "base_uri": "https://localhost:8080/",
          "height": 51
        },
        "outputId": "5d930b9f-5e6b-4317-a9cc-9353544041b5"
      },
      "source": [
        "import pandas as pd\n",
        "import numpy as np\n",
        "import os\n",
        "import datetime\n",
        "\n",
        "import tensorflow as tf\n",
        "from tensorflow.keras.models import Sequential\n",
        "from tensorflow.keras.layers import Conv2D, MaxPool2D, Dense, Flatten, Dropout\n",
        "from tensorflow.keras.utils import to_categorical\n",
        "\n",
        "%load_ext tensorboard\n",
        "\n",
        "import matplotlib.pyplot as plt\n",
        "from skimage import color, exposure\n",
        "from sklearn.metrics import accuracy_score\n",
        "\n",
        "from hyperopt import hp, STATUS_OK, tpe, Trials, fmin"
      ],
      "execution_count": 12,
      "outputs": [
        {
          "output_type": "stream",
          "text": [
            "The tensorboard extension is already loaded. To reload it, use:\n",
            "  %reload_ext tensorboard\n"
          ],
          "name": "stdout"
        }
      ]
    },
    {
      "cell_type": "code",
      "metadata": {
        "id": "o_SawksLy3wj",
        "colab_type": "code",
        "colab": {
          "base_uri": "https://localhost:8080/",
          "height": 34
        },
        "outputId": "a1a3d4f3-7565-42c6-cbfe-f7deb517e835"
      },
      "source": [
        "cd '/content/drive/My Drive/Colab Notebooks/matrix/matrix_three/traffic-sign-classification/'"
      ],
      "execution_count": 3,
      "outputs": [
        {
          "output_type": "stream",
          "text": [
            "/content/drive/My Drive/Colab Notebooks/matrix/matrix_three/traffic-sign-classification\n"
          ],
          "name": "stdout"
        }
      ]
    },
    {
      "cell_type": "code",
      "metadata": {
        "id": "naefKlWEzToL",
        "colab_type": "code",
        "colab": {}
      },
      "source": [
        "train = pd.read_pickle('data/train.p')\n",
        "test = pd.read_pickle('data/test.p')\n",
        "\n",
        "X_train, y_train = train['features'], train['labels']\n",
        "X_test, y_test = test['features'], test['labels']"
      ],
      "execution_count": 0,
      "outputs": []
    },
    {
      "cell_type": "code",
      "metadata": {
        "id": "XzCYqBw-zZYq",
        "colab_type": "code",
        "colab": {}
      },
      "source": [
        "if y_train.ndim == 1: y_train = to_categorical(y_train)\n",
        "if y_test.ndim == 1: y_test = to_categorical(y_test)\n",
        "\n",
        "input_shape = X_train.shape[1:]\n",
        "num_classes = y_train.shape[1]"
      ],
      "execution_count": 0,
      "outputs": []
    },
    {
      "cell_type": "code",
      "metadata": {
        "id": "D7wrV6rzzsfN",
        "colab_type": "code",
        "colab": {
          "base_uri": "https://localhost:8080/",
          "height": 34
        },
        "outputId": "0e7fb66a-7a1f-4053-f928-7610d2afe8fd"
      },
      "source": [
        "def train_model(model, X_train, y_train, params_fit={}):\n",
        "  model.compile(loss='categorical_crossentropy', optimizer='Adam', metrics=['accuracy'])\n",
        "\n",
        "\n",
        "  logdir = os.path.join('logs', datetime.datetime.now().strftime('%Y%%d-%H%M%S'))\n",
        "  tensorboard_callback=tf.keras.callbacks.TensorBoard(logdir,histogram_freq=1)\n",
        "  model.fit(\n",
        "      X_train, \n",
        "      y_train,\n",
        "      batch_size=params_fit.get('batch_size', 128),\n",
        "      epochs=params_fit.get('epochs',5),\n",
        "      verbose=params_fit.get('verbose',1),\n",
        "      validation_data=params_fit.get('validation_data', (X_train, y_train)),\n",
        "      callbacks=tensorboard_callback\n",
        "      )\n",
        "  \n",
        "  return model\n",
        "\n",
        "\n",
        "def predict(model_trained, X_test, y_test, scoring=accuracy_score ):\n",
        "\n",
        "  y_test_norm = np.argmax(y_test, axis=1)\n",
        "\n",
        "  y_pred_prob = model_trained.predict(X_test)\n",
        "  y_pred = np.argmax(y_pred_prob, axis=1)\n",
        "\n",
        "  return scoring(y_test_norm,y_pred)"
      ],
      "execution_count": 6,
      "outputs": [
        {
          "output_type": "stream",
          "text": [
            "ERROR! Session/line number was not unique in database. History logging moved to new session 59\n"
          ],
          "name": "stdout"
        }
      ]
    },
    {
      "cell_type": "code",
      "metadata": {
        "id": "PuCONpJ-z6gs",
        "colab_type": "code",
        "colab": {}
      },
      "source": [
        "def get_cnn_v5(input_shape, num_classes):\n",
        "  return Sequential([\n",
        "  Conv2D(filters=32, kernel_size=(3,3), activation='relu', input_shape=input_shape),\n",
        "  Conv2D(filters=32, kernel_size=(3,3), activation='relu', padding='same'),\n",
        "  MaxPool2D(),\n",
        "  Dropout(0.3),\n",
        "\n",
        "  Conv2D(filters=64, kernel_size=(3,3), activation='relu', padding='same'),\n",
        "  Conv2D(filters=64, kernel_size=(3,3), activation='relu'),\n",
        "  MaxPool2D(),\n",
        "  Dropout(0.3),\n",
        "\n",
        "  Conv2D(filters=64, kernel_size=(3,3), activation='relu', padding='same'),\n",
        "  Conv2D(filters=64, kernel_size=(3,3), activation='relu'),\n",
        "  MaxPool2D(),\n",
        "  Dropout(0.3),\n",
        "\n",
        "  Flatten(),\n",
        "\n",
        "  Dense(1024, activation = 'relu'),\n",
        "  Dropout(0.3),\n",
        "\n",
        "  Dense(1024, activation = 'relu'),\n",
        "  Dropout(0.3),\n",
        "\n",
        "  Dense(num_classes, activation = 'softmax'),\n",
        "])\n"
      ],
      "execution_count": 0,
      "outputs": []
    },
    {
      "cell_type": "code",
      "metadata": {
        "id": "Wi_1szN50Tfc",
        "colab_type": "code",
        "colab": {
          "base_uri": "https://localhost:8080/",
          "height": 204
        },
        "outputId": "6531da5c-f445-4284-d468-b98a2b448b18"
      },
      "source": [
        "model = get_cnn_v5(input_shape,num_classes)\n",
        "model_trained = train_model(model, X_train, y_train)\n",
        "predict(model_trained, X_test, y_test)"
      ],
      "execution_count": 9,
      "outputs": [
        {
          "output_type": "stream",
          "text": [
            "Epoch 1/5\n",
            "272/272 [==============================] - 5s 20ms/step - loss: 2.6061 - accuracy: 0.2887 - val_loss: 0.9613 - val_accuracy: 0.7006\n",
            "Epoch 2/5\n",
            "272/272 [==============================] - 5s 17ms/step - loss: 0.8002 - accuracy: 0.7463 - val_loss: 0.2091 - val_accuracy: 0.9376\n",
            "Epoch 3/5\n",
            "272/272 [==============================] - 5s 18ms/step - loss: 0.3672 - accuracy: 0.8857 - val_loss: 0.0894 - val_accuracy: 0.9722\n",
            "Epoch 4/5\n",
            "272/272 [==============================] - 5s 17ms/step - loss: 0.2308 - accuracy: 0.9306 - val_loss: 0.0663 - val_accuracy: 0.9801\n",
            "Epoch 5/5\n",
            "272/272 [==============================] - 5s 18ms/step - loss: 0.1898 - accuracy: 0.9436 - val_loss: 0.0337 - val_accuracy: 0.9902\n"
          ],
          "name": "stdout"
        },
        {
          "output_type": "execute_result",
          "data": {
            "text/plain": [
              "0.9689342403628118"
            ]
          },
          "metadata": {
            "tags": []
          },
          "execution_count": 9
        }
      ]
    },
    {
      "cell_type": "code",
      "metadata": {
        "id": "qfZ24LDI1zk8",
        "colab_type": "code",
        "colab": {
          "base_uri": "https://localhost:8080/",
          "height": 51
        },
        "outputId": "e72250a8-a120-4c6f-dec4-0d34d93e44ff"
      },
      "source": [
        "model_trained.evaluate(X_test,y_test)"
      ],
      "execution_count": 10,
      "outputs": [
        {
          "output_type": "stream",
          "text": [
            "138/138 [==============================] - 0s 4ms/step - loss: 0.2565 - accuracy: 0.9689\n"
          ],
          "name": "stdout"
        },
        {
          "output_type": "execute_result",
          "data": {
            "text/plain": [
              "[0.25647637248039246, 0.9689342379570007]"
            ]
          },
          "metadata": {
            "tags": []
          },
          "execution_count": 10
        }
      ]
    },
    {
      "cell_type": "code",
      "metadata": {
        "id": "muwlig7k5VVF",
        "colab_type": "code",
        "colab": {}
      },
      "source": [
        "def get_model(params):\n",
        "  return Sequential([\n",
        "  Conv2D(filters=32, kernel_size=(3,3), activation='relu', input_shape=input_shape),\n",
        "  Conv2D(filters=32, kernel_size=(3,3), activation='relu', padding='same'),\n",
        "  MaxPool2D(),\n",
        "  Dropout(params['dropout_cnn_block_one']),\n",
        "\n",
        "  Conv2D(filters=64, kernel_size=(3,3), activation='relu', padding='same'),\n",
        "  Conv2D(filters=64, kernel_size=(3,3), activation='relu'),\n",
        "  MaxPool2D(),\n",
        "  Dropout(params['dropout_cnn_block_two']),\n",
        "\n",
        "  Conv2D(filters=128, kernel_size=(3,3), activation='relu', padding='same'),\n",
        "  Conv2D(filters=128, kernel_size=(3,3), activation='relu'),\n",
        "  MaxPool2D(),\n",
        "  Dropout(params['dropout_cnn_block_three']),\n",
        "\n",
        "  Flatten(),\n",
        "\n",
        "  Dense(1024, activation = 'relu'),\n",
        "  Dropout(params['dropout_dense_block_one']),\n",
        "\n",
        "  Dense(1024, activation = 'relu'),\n",
        "  Dropout(params['dropout_dense_block_two']),\n",
        "\n",
        "  Dense(num_classes, activation = 'softmax'),\n",
        "])\n"
      ],
      "execution_count": 0,
      "outputs": []
    },
    {
      "cell_type": "code",
      "metadata": {
        "id": "AZBf4q_I0Y8Y",
        "colab_type": "code",
        "colab": {}
      },
      "source": [
        "def func_obj(params):\n",
        "  model = get_model(params)\n",
        "  model.compile(loss='categorical_crossentropy', optimizer='Adam', metrics=['accuracy'])\n",
        "\n",
        "  model.fit(\n",
        "      X_train, \n",
        "      y_train,\n",
        "      batch_size=int(params.get('batch_size', 128)),\n",
        "      epochs=5,\n",
        "      verbose=0,\n",
        "      )\n",
        "  score = model.evaluate(X_test, y_test, verbose = 0)\n",
        "  accuracy = score[1]\n",
        "  print(params, 'accuracy={}'.format(accuracy))\n",
        "  \n",
        "  return {'loss': -accuracy, 'status': STATUS_OK, 'model': model}"
      ],
      "execution_count": 0,
      "outputs": []
    },
    {
      "cell_type": "code",
      "metadata": {
        "id": "_-eFV2nn2jRY",
        "colab_type": "code",
        "colab": {
          "base_uri": "https://localhost:8080/",
          "height": 1000
        },
        "outputId": "a314d596-f5c2-4651-bff5-252fa2ff9439"
      },
      "source": [
        "space = {\n",
        "    'batch_size': hp.quniform('batch_size', 100, 200, 10),\n",
        "    'dropout_cnn_block_one': hp.uniform('dropout_cnn_block_one', 0.3, 0.5),\n",
        "    'dropout_cnn_block_two': hp.uniform('dropout_cnn_block_two', 0.3, 0.5),\n",
        "    'dropout_cnn_block_three': hp.uniform('dropout_cnn_block_three', 0.3, 0.5),\n",
        "\n",
        "    'dropout_dense_block_one': hp.uniform('dropout_dense_block_one', 0.3, 0.7),\n",
        "    'dropout_dense_block_two': hp.uniform('dropout_dense_block_two', 0.3, 0.7),\n",
        "}\n",
        "\n",
        "best = fmin(\n",
        "    func_obj,\n",
        "    space,\n",
        "    tpe.suggest,\n",
        "    30,\n",
        "    Trials()\n",
        ")"
      ],
      "execution_count": 29,
      "outputs": [
        {
          "output_type": "stream",
          "text": [
            "{'batch_size': 110.0, 'dropout_cnn_block_one': 0.48740500249100893, 'dropout_cnn_block_three': 0.4987601775105097, 'dropout_cnn_block_two': 0.34043297134859746, 'dropout_dense_block_one': 0.3579064363548787, 'dropout_dense_block_two': 0.41339556878215244}\n",
            "accuracy=0.9356009364128113\n",
            "{'batch_size': 110.0, 'dropout_cnn_block_one': 0.3831404787350065, 'dropout_cnn_block_three': 0.37802131663266975, 'dropout_cnn_block_two': 0.4206370239589887, 'dropout_dense_block_one': 0.33592297986060066, 'dropout_dense_block_two': 0.38317584763552637}\n",
            "accuracy=0.962358295917511\n",
            "{'batch_size': 130.0, 'dropout_cnn_block_one': 0.4653326956523011, 'dropout_cnn_block_three': 0.3008309769657516, 'dropout_cnn_block_two': 0.37186278298424247, 'dropout_dense_block_one': 0.5218874817174161, 'dropout_dense_block_two': 0.42713972840208053}\n",
            "accuracy=0.9580498933792114\n",
            "{'batch_size': 180.0, 'dropout_cnn_block_one': 0.380393292444319, 'dropout_cnn_block_three': 0.3884860177719569, 'dropout_cnn_block_two': 0.4802453989158657, 'dropout_dense_block_one': 0.4611314294097859, 'dropout_dense_block_two': 0.30948593801511}\n",
            "accuracy=0.9176870584487915\n",
            "{'batch_size': 180.0, 'dropout_cnn_block_one': 0.4440174645365551, 'dropout_cnn_block_three': 0.4925816627925794, 'dropout_cnn_block_two': 0.4985695958945818, 'dropout_dense_block_one': 0.6724436432981193, 'dropout_dense_block_two': 0.344174442885649}\n",
            "accuracy=0.6800453662872314\n",
            "{'batch_size': 190.0, 'dropout_cnn_block_one': 0.4900252733931968, 'dropout_cnn_block_three': 0.4498114942689899, 'dropout_cnn_block_two': 0.40852782845035973, 'dropout_dense_block_one': 0.43436779394261316, 'dropout_dense_block_two': 0.6594282326611818}\n",
            "accuracy=0.7163265347480774\n",
            "{'batch_size': 130.0, 'dropout_cnn_block_one': 0.4021882295484822, 'dropout_cnn_block_three': 0.44803046498990884, 'dropout_cnn_block_two': 0.456557069093102, 'dropout_dense_block_one': 0.48062625688642235, 'dropout_dense_block_two': 0.6993680455754823}\n",
            "accuracy=0.8648526072502136\n",
            "{'batch_size': 110.0, 'dropout_cnn_block_one': 0.38238583831347966, 'dropout_cnn_block_three': 0.3481320956196179, 'dropout_cnn_block_two': 0.3958025093353886, 'dropout_dense_block_one': 0.5473220904575933, 'dropout_dense_block_two': 0.34352045905661116}\n",
            "accuracy=0.9471655488014221\n",
            "{'batch_size': 110.0, 'dropout_cnn_block_one': 0.33894808405723054, 'dropout_cnn_block_three': 0.4957034338093448, 'dropout_cnn_block_two': 0.3988861783693584, 'dropout_dense_block_one': 0.6426195035971356, 'dropout_dense_block_two': 0.5985738614204255}\n",
            "accuracy=0.9136054515838623\n",
            "{'batch_size': 190.0, 'dropout_cnn_block_one': 0.4519741235739621, 'dropout_cnn_block_three': 0.4909201577339968, 'dropout_cnn_block_two': 0.3328947062276019, 'dropout_dense_block_one': 0.681327350249635, 'dropout_dense_block_two': 0.6965038664596054}\n",
            "accuracy=0.47369614243507385\n",
            "{'batch_size': 170.0, 'dropout_cnn_block_one': 0.31517568865823725, 'dropout_cnn_block_three': 0.3554821280639309, 'dropout_cnn_block_two': 0.477198150854388, 'dropout_dense_block_one': 0.5757485168301713, 'dropout_dense_block_two': 0.6938402024553503}\n",
            "accuracy=0.9378684759140015\n",
            "{'batch_size': 150.0, 'dropout_cnn_block_one': 0.4486857802250128, 'dropout_cnn_block_three': 0.48540039024468146, 'dropout_cnn_block_two': 0.33723246861929734, 'dropout_dense_block_one': 0.478350848264838, 'dropout_dense_block_two': 0.5897516905024097}\n",
            "accuracy=0.7519274353981018\n",
            "{'batch_size': 180.0, 'dropout_cnn_block_one': 0.4450428924835613, 'dropout_cnn_block_three': 0.45444148936458795, 'dropout_cnn_block_two': 0.39258532692656867, 'dropout_dense_block_one': 0.444816209946013, 'dropout_dense_block_two': 0.32674744001089345}\n",
            "accuracy=0.9065759778022766\n",
            "{'batch_size': 170.0, 'dropout_cnn_block_one': 0.48968519669640304, 'dropout_cnn_block_three': 0.41180557407100843, 'dropout_cnn_block_two': 0.38808578230272595, 'dropout_dense_block_one': 0.4745208582982855, 'dropout_dense_block_two': 0.5682472447190317}\n",
            "accuracy=0.8866212964057922\n",
            "{'batch_size': 190.0, 'dropout_cnn_block_one': 0.3321531385299648, 'dropout_cnn_block_three': 0.387253693473697, 'dropout_cnn_block_two': 0.3538671419589825, 'dropout_dense_block_one': 0.6146648289656286, 'dropout_dense_block_two': 0.4755822102396082}\n",
            "accuracy=0.9414966106414795\n",
            "{'batch_size': 110.0, 'dropout_cnn_block_one': 0.37974492351881944, 'dropout_cnn_block_three': 0.44812690501451236, 'dropout_cnn_block_two': 0.4560035965558021, 'dropout_dense_block_one': 0.4628866168871721, 'dropout_dense_block_two': 0.37646256972205233}\n",
            "accuracy=0.9655328989028931\n",
            "{'batch_size': 110.0, 'dropout_cnn_block_one': 0.4900125481785572, 'dropout_cnn_block_three': 0.3121768623191786, 'dropout_cnn_block_two': 0.4211407520353865, 'dropout_dense_block_one': 0.5557305800160772, 'dropout_dense_block_two': 0.4275951118281946}\n",
            "accuracy=0.8766440153121948\n",
            "{'batch_size': 180.0, 'dropout_cnn_block_one': 0.39003682706419557, 'dropout_cnn_block_three': 0.31442810446678665, 'dropout_cnn_block_two': 0.4024537676688808, 'dropout_dense_block_one': 0.4656066358394371, 'dropout_dense_block_two': 0.5225099406228584}\n",
            "accuracy=0.9476190209388733\n",
            "{'batch_size': 180.0, 'dropout_cnn_block_one': 0.43699207319785627, 'dropout_cnn_block_three': 0.45082398882055985, 'dropout_cnn_block_two': 0.3807775357561683, 'dropout_dense_block_one': 0.4499734432932293, 'dropout_dense_block_two': 0.5447020802694319}\n",
            "accuracy=0.9303854703903198\n",
            "{'batch_size': 200.0, 'dropout_cnn_block_one': 0.4532532204638899, 'dropout_cnn_block_three': 0.33756362180918636, 'dropout_cnn_block_two': 0.48605061365189545, 'dropout_dense_block_one': 0.629679065647173, 'dropout_dense_block_two': 0.48864589107493994}\n",
            "accuracy=0.761451244354248\n",
            "{'batch_size': 130.0, 'dropout_cnn_block_one': 0.3627503206382299, 'dropout_cnn_block_three': 0.4107362536155296, 'dropout_cnn_block_two': 0.4439405627259015, 'dropout_dense_block_one': 0.3095774362658352, 'dropout_dense_block_two': 0.38097300089006897}\n",
            "accuracy=0.9585034251213074\n",
            "{'batch_size': 100.0, 'dropout_cnn_block_one': 0.4143252176762956, 'dropout_cnn_block_three': 0.42784567327443535, 'dropout_cnn_block_two': 0.4319200622435997, 'dropout_dense_block_one': 0.3833542007201611, 'dropout_dense_block_two': 0.37608757286451805}\n",
            "accuracy=0.9498866200447083\n",
            "{'batch_size': 120.0, 'dropout_cnn_block_one': 0.3594065886389409, 'dropout_cnn_block_three': 0.3651123761934641, 'dropout_cnn_block_two': 0.46129049164426483, 'dropout_dense_block_one': 0.3091622830295827, 'dropout_dense_block_two': 0.4589159554739011}\n",
            "accuracy=0.962358295917511\n",
            "{'batch_size': 140.0, 'dropout_cnn_block_one': 0.3468227336282236, 'dropout_cnn_block_three': 0.3663963819731768, 'dropout_cnn_block_two': 0.45796473709938773, 'dropout_dense_block_one': 0.3990771656324626, 'dropout_dense_block_two': 0.46773752314699346}\n",
            "accuracy=0.9487528204917908\n",
            "{'batch_size': 100.0, 'dropout_cnn_block_one': 0.4188150909855638, 'dropout_cnn_block_three': 0.4675407916037225, 'dropout_cnn_block_two': 0.43133681321607875, 'dropout_dense_block_one': 0.35362349138754484, 'dropout_dense_block_two': 0.3771800052451636}\n",
            "accuracy=0.9342403411865234\n",
            "{'batch_size': 150.0, 'dropout_cnn_block_one': 0.30492973977393284, 'dropout_cnn_block_three': 0.4279605140059164, 'dropout_cnn_block_two': 0.42070279272439404, 'dropout_dense_block_one': 0.4137835260503128, 'dropout_dense_block_two': 0.4013596946000336}\n",
            "accuracy=0.9528344869613647\n",
            "{'batch_size': 120.0, 'dropout_cnn_block_one': 0.3707772941731814, 'dropout_cnn_block_three': 0.38926046947399906, 'dropout_cnn_block_two': 0.44168774266783783, 'dropout_dense_block_one': 0.36350229612660895, 'dropout_dense_block_two': 0.4440874755532664}\n",
            "accuracy=0.9557822942733765\n",
            "{'batch_size': 140.0, 'dropout_cnn_block_one': 0.4061419704457209, 'dropout_cnn_block_three': 0.4318024936072399, 'dropout_cnn_block_two': 0.3021674592011192, 'dropout_dense_block_one': 0.3222880908858081, 'dropout_dense_block_two': 0.3159242128559901}\n",
            "accuracy=0.9562358260154724\n",
            "{'batch_size': 120.0, 'dropout_cnn_block_one': 0.32117006952316907, 'dropout_cnn_block_three': 0.473912285896221, 'dropout_cnn_block_two': 0.36159189162963934, 'dropout_dense_block_one': 0.33986769428887176, 'dropout_dense_block_two': 0.40013713679528284}\n",
            "accuracy=0.938548743724823\n",
            "{'batch_size': 100.0, 'dropout_cnn_block_one': 0.4261488488671494, 'dropout_cnn_block_three': 0.33210859599142706, 'dropout_cnn_block_two': 0.47048300790707254, 'dropout_dense_block_one': 0.5137436089122476, 'dropout_dense_block_two': 0.5148865437062616}\n",
            "accuracy=0.9092970490455627\n",
            "100%|██████████| 30/30 [07:57<00:00, 15.92s/it, best loss: -0.9655328989028931]\n"
          ],
          "name": "stdout"
        }
      ]
    },
    {
      "cell_type": "code",
      "metadata": {
        "id": "G9I97SpZFtkC",
        "colab_type": "code",
        "colab": {}
      },
      "source": [
        ""
      ],
      "execution_count": 0,
      "outputs": []
    }
  ]
}